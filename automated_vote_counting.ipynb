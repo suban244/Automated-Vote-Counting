{
  "cells": [
    {
      "cell_type": "markdown",
      "metadata": {},
      "source": [
        "### Setting up for kaggle"
      ]
    },
    {
      "cell_type": "markdown",
      "metadata": {},
      "source": [
        "Data can be found at [Kaggle](https://www.kaggle.com/competitions/automatic-vote-counting-image)\n",
        "Add the \".kaggle.json\" file in the root directory and run the nootbook."
      ]
    },
    {
      "cell_type": "code",
      "execution_count": null,
      "metadata": {
        "colab": {
          "base_uri": "https://localhost:8080/"
        },
        "id": "vUV8v9OmPrVN",
        "outputId": "aec17d29-4bbf-40bf-e965-290ac39390a2"
      },
      "outputs": [
        {
          "name": "stdout",
          "output_type": "stream",
          "text": [
            "ref                                                 title                                  size  lastUpdated          downloadCount  voteCount  usabilityRating  \n",
            "--------------------------------------------------  ------------------------------------  -----  -------------------  -------------  ---------  ---------------  \n",
            "ruchi798/data-science-job-salaries                  Data Science Job Salaries               7KB  2022-06-15 08:59:12          18456        576  1.0              \n",
            "nancyalaswad90/diamonds-prices                      Diamonds Prices                       711KB  2022-07-09 14:59:21           2135         94  1.0              \n",
            "aravindas01/monkeypox-cases-countrywise-data        MonkeyPox Cases_Countrywise Data        6KB  2022-08-10 17:12:36            602         33  0.9117647        \n",
            "faryarmemon/usa-housing-market-factors              U.S. Housing Market Factors            32KB  2022-08-03 02:19:31            473         33  1.0              \n",
            "himanshunakrani/student-study-hours                 Student Study Hours                    276B  2022-07-20 13:17:29           1634         63  1.0              \n",
            "zzettrkalpakbal/full-filled-brain-stroke-dataset    Brain stroke prediction dataset        52KB  2022-07-16 09:57:08           2096         65  0.9705882        \n",
            "jillanisofttech/brain-stroke-dataset                Brain Stroke Dataset                   47KB  2022-08-04 18:02:56            734         30  0.9705882        \n",
            "erqizhou/students-data-analysis                     Students Data Analysis                  2KB  2022-07-20 03:54:13            886         32  1.0              \n",
            "dansbecker/melbourne-housing-snapshot               Melbourne Housing Snapshot            451KB  2018-06-05 12:52:24          92915       1119  0.7058824        \n",
            "gabrielabilleira/football-manager-2022-player-data  Football Manager 2022 Player Data      94KB  2022-07-26 09:49:50            579         29  1.0              \n",
            "mukuldeshantri/ecommerce-fashion-dataset            E-commerce Dataset with 30K Products  546KB  2022-07-08 12:28:18           2371         69  1.0              \n",
            "datasnaek/youtube-new                               Trending YouTube Video Statistics     201MB  2019-06-03 00:56:47         181209       4630  0.7941176        \n",
            "zynicide/wine-reviews                               Wine Reviews                           51MB  2017-11-27 17:08:04         164324       3350  0.7941176        \n",
            "himanshunakrani/cryptocurrencies-dataset            Cryptocurrency Prices Dataset         156KB  2022-08-11 17:46:17            471         25  1.0              \n",
            "residentmario/ramen-ratings                         Ramen Ratings                          40KB  2018-01-11 16:04:39          35126        804  0.7058824        \n",
            "rtatman/188-million-us-wildfires                    1.88 Million US Wildfires             168MB  2020-05-12 21:03:49          21007       1027  0.8235294        \n",
            "datasnaek/chess                                     Chess Game Dataset (Lichess)            3MB  2017-09-04 03:09:09          30808       1026  0.8235294        \n",
            "jpmiller/publicassistance                           US Public Food Assistance             703KB  2020-08-21 16:51:18          16844        402  0.9117647        \n",
            "dansbecker/powerlifting-database                    powerlifting-database                   9MB  2019-04-30 21:07:41           5238         65  0.5882353        \n",
            "nasa/kepler-exoplanet-search-results                Kepler Exoplanet Search Results         1MB  2017-10-10 18:26:59          10725        668  0.8235294        \n"
          ]
        }
      ],
      "source": [
        "\"\"\"\n",
        "!pip install -q kaggle\n",
        "! mkdir ~/.kaggle \n",
        "! cp ./kaggle.json ~/.kaggle/\n",
        "! chmod 600 ~/.kaggle/kaggle.json\n",
        "! kaggle datasets list\n",
        "\"\"\""
      ]
    },
    {
      "cell_type": "markdown",
      "metadata": {},
      "source": [
        "### Downloading and unzipping data\n",
        "Designed for kaggle and google colab"
      ]
    },
    {
      "cell_type": "code",
      "execution_count": null,
      "metadata": {
        "colab": {
          "base_uri": "https://localhost:8080/"
        },
        "id": "-vK_RZzQPuS4",
        "outputId": "62f5ac4e-117e-4cd2-d91f-d08ffd77add7"
      },
      "outputs": [
        {
          "name": "stdout",
          "output_type": "stream",
          "text": [
            "Downloading automatic-vote-counting-image.zip to /content\n",
            " 99% 2.38G/2.40G [00:26<00:00, 76.6MB/s]\n",
            "100% 2.40G/2.40G [00:26<00:00, 98.6MB/s]\n"
          ]
        }
      ],
      "source": [
        "\"\"\"\n",
        "! kaggle competitions download -c \"automatic-vote-counting-image\"\n",
        "! apt install unzip\n",
        "!unzip automatic-vote-counting-image \n",
        "\"\"\""
      ]
    },
    {
      "cell_type": "code",
      "execution_count": null,
      "metadata": {
        "colab": {
          "base_uri": "https://localhost:8080/",
          "height": 206
        },
        "id": "yE43xY18TWbe",
        "outputId": "fb4f1b0f-147d-47d0-aeb8-5030c809b7bb"
      },
      "outputs": [
        {
          "data": {
            "text/html": [
              "\n",
              "  <div id=\"df-335cf2e6-f6bb-4cda-97c0-1192deba5b61\">\n",
              "    <div class=\"colab-df-container\">\n",
              "      <div>\n",
              "<style scoped>\n",
              "    .dataframe tbody tr th:only-of-type {\n",
              "        vertical-align: middle;\n",
              "    }\n",
              "\n",
              "    .dataframe tbody tr th {\n",
              "        vertical-align: top;\n",
              "    }\n",
              "\n",
              "    .dataframe thead th {\n",
              "        text-align: right;\n",
              "    }\n",
              "</style>\n",
              "<table border=\"1\" class=\"dataframe\">\n",
              "  <thead>\n",
              "    <tr style=\"text-align: right;\">\n",
              "      <th></th>\n",
              "      <th>data</th>\n",
              "      <th>label</th>\n",
              "    </tr>\n",
              "  </thead>\n",
              "  <tbody>\n",
              "    <tr>\n",
              "      <th>0</th>\n",
              "      <td>12_248.jpeg</td>\n",
              "      <td>12</td>\n",
              "    </tr>\n",
              "    <tr>\n",
              "      <th>1</th>\n",
              "      <td>39_1627.jpeg</td>\n",
              "      <td>39</td>\n",
              "    </tr>\n",
              "    <tr>\n",
              "      <th>2</th>\n",
              "      <td>22_536.jpeg</td>\n",
              "      <td>22</td>\n",
              "    </tr>\n",
              "    <tr>\n",
              "      <th>3</th>\n",
              "      <td>33_612.jpeg</td>\n",
              "      <td>33</td>\n",
              "    </tr>\n",
              "    <tr>\n",
              "      <th>4</th>\n",
              "      <td>1_1158.jpeg</td>\n",
              "      <td>1</td>\n",
              "    </tr>\n",
              "  </tbody>\n",
              "</table>\n",
              "</div>\n",
              "      <button class=\"colab-df-convert\" onclick=\"convertToInteractive('df-335cf2e6-f6bb-4cda-97c0-1192deba5b61')\"\n",
              "              title=\"Convert this dataframe to an interactive table.\"\n",
              "              style=\"display:none;\">\n",
              "        \n",
              "  <svg xmlns=\"http://www.w3.org/2000/svg\" height=\"24px\"viewBox=\"0 0 24 24\"\n",
              "       width=\"24px\">\n",
              "    <path d=\"M0 0h24v24H0V0z\" fill=\"none\"/>\n",
              "    <path d=\"M18.56 5.44l.94 2.06.94-2.06 2.06-.94-2.06-.94-.94-2.06-.94 2.06-2.06.94zm-11 1L8.5 8.5l.94-2.06 2.06-.94-2.06-.94L8.5 2.5l-.94 2.06-2.06.94zm10 10l.94 2.06.94-2.06 2.06-.94-2.06-.94-.94-2.06-.94 2.06-2.06.94z\"/><path d=\"M17.41 7.96l-1.37-1.37c-.4-.4-.92-.59-1.43-.59-.52 0-1.04.2-1.43.59L10.3 9.45l-7.72 7.72c-.78.78-.78 2.05 0 2.83L4 21.41c.39.39.9.59 1.41.59.51 0 1.02-.2 1.41-.59l7.78-7.78 2.81-2.81c.8-.78.8-2.07 0-2.86zM5.41 20L4 18.59l7.72-7.72 1.47 1.35L5.41 20z\"/>\n",
              "  </svg>\n",
              "      </button>\n",
              "      \n",
              "  <style>\n",
              "    .colab-df-container {\n",
              "      display:flex;\n",
              "      flex-wrap:wrap;\n",
              "      gap: 12px;\n",
              "    }\n",
              "\n",
              "    .colab-df-convert {\n",
              "      background-color: #E8F0FE;\n",
              "      border: none;\n",
              "      border-radius: 50%;\n",
              "      cursor: pointer;\n",
              "      display: none;\n",
              "      fill: #1967D2;\n",
              "      height: 32px;\n",
              "      padding: 0 0 0 0;\n",
              "      width: 32px;\n",
              "    }\n",
              "\n",
              "    .colab-df-convert:hover {\n",
              "      background-color: #E2EBFA;\n",
              "      box-shadow: 0px 1px 2px rgba(60, 64, 67, 0.3), 0px 1px 3px 1px rgba(60, 64, 67, 0.15);\n",
              "      fill: #174EA6;\n",
              "    }\n",
              "\n",
              "    [theme=dark] .colab-df-convert {\n",
              "      background-color: #3B4455;\n",
              "      fill: #D2E3FC;\n",
              "    }\n",
              "\n",
              "    [theme=dark] .colab-df-convert:hover {\n",
              "      background-color: #434B5C;\n",
              "      box-shadow: 0px 1px 3px 1px rgba(0, 0, 0, 0.15);\n",
              "      filter: drop-shadow(0px 1px 2px rgba(0, 0, 0, 0.3));\n",
              "      fill: #FFFFFF;\n",
              "    }\n",
              "  </style>\n",
              "\n",
              "      <script>\n",
              "        const buttonEl =\n",
              "          document.querySelector('#df-335cf2e6-f6bb-4cda-97c0-1192deba5b61 button.colab-df-convert');\n",
              "        buttonEl.style.display =\n",
              "          google.colab.kernel.accessAllowed ? 'block' : 'none';\n",
              "\n",
              "        async function convertToInteractive(key) {\n",
              "          const element = document.querySelector('#df-335cf2e6-f6bb-4cda-97c0-1192deba5b61');\n",
              "          const dataTable =\n",
              "            await google.colab.kernel.invokeFunction('convertToInteractive',\n",
              "                                                     [key], {});\n",
              "          if (!dataTable) return;\n",
              "\n",
              "          const docLinkHtml = 'Like what you see? Visit the ' +\n",
              "            '<a target=\"_blank\" href=https://colab.research.google.com/notebooks/data_table.ipynb>data table notebook</a>'\n",
              "            + ' to learn more about interactive tables.';\n",
              "          element.innerHTML = '';\n",
              "          dataTable['output_type'] = 'display_data';\n",
              "          await google.colab.output.renderOutput(dataTable, element);\n",
              "          const docLink = document.createElement('div');\n",
              "          docLink.innerHTML = docLinkHtml;\n",
              "          element.appendChild(docLink);\n",
              "        }\n",
              "      </script>\n",
              "    </div>\n",
              "  </div>\n",
              "  "
            ],
            "text/plain": [
              "           data  label\n",
              "0   12_248.jpeg     12\n",
              "1  39_1627.jpeg     39\n",
              "2   22_536.jpeg     22\n",
              "3   33_612.jpeg     33\n",
              "4   1_1158.jpeg      1"
            ]
          },
          "execution_count": 6,
          "metadata": {},
          "output_type": "execute_result"
        }
      ],
      "source": [
        "import shutil\n",
        "import os\n",
        "import pandas as pd\n",
        "base_dir = \"./IMAGE DATASET/train\"\n",
        "current_dir = \"./train\"\n",
        "\n",
        "labels_path = \"./IMAGE DATASET/train.csv\"\n",
        "train = pd.read_csv(labels_path)\n",
        "train.head()"
      ]
    },
    {
      "cell_type": "code",
      "execution_count": null,
      "metadata": {
        "id": "DDFqhpTctQQ_"
      },
      "outputs": [],
      "source": [
        "# !mkdir train\n",
        "!mkdir train_split\n",
        "!mkdir validation_split\n",
        "# !for i in {0..47}; do mkdir \"train/$i\"; done\n",
        "!for i in {0..47}; do mkdir \"train_split/$i\"; done\n",
        "!for i in {0..47}; do mkdir \"validation_split/$i\"; done"
      ]
    },
    {
      "cell_type": "code",
      "execution_count": null,
      "metadata": {
        "colab": {
          "base_uri": "https://localhost:8080/"
        },
        "id": "Soz3DtLLtSF0",
        "outputId": "bcc1a850-d399-43f3-c233-b9bbf1b63ad7"
      },
      "outputs": [
        {
          "name": "stdout",
          "output_type": "stream",
          "text": [
            "0\n",
            "5000\n",
            "10000\n",
            "15000\n",
            "20000\n",
            "25000\n",
            "30000\n",
            "35000\n",
            "40000\n",
            "45000\n",
            "50000\n",
            "55000\n",
            "60000\n",
            "65000\n",
            "70000\n",
            "75000\n",
            "80000\n",
            "85000\n",
            "90000\n"
          ]
        }
      ],
      "source": [
        "import random\n",
        "for i in range(91960):\n",
        "    num = random.random()\n",
        "    current_dir = \"./train_split\" if num < 0.9 else \"./validation_split\"\n",
        "    file_name = train.iloc[i,0]\n",
        "    label = train.iloc[i, 1]\n",
        "    dst = os.path.join(current_dir, str(label))\n",
        "    src = os.path.join(base_dir, file_name)\n",
        "    shutil.copy(src, dst)\n",
        "    \n",
        "    if i % 5000 == 0:\n",
        "        print(i)"
      ]
    },
    {
      "cell_type": "code",
      "execution_count": null,
      "metadata": {
        "colab": {
          "base_uri": "https://localhost:8080/"
        },
        "id": "_U_dn8QmuPM-",
        "outputId": "2881ee00-793e-41c7-9d10-f84415485f1e"
      },
      "outputs": [
        {
          "name": "stdout",
          "output_type": "stream",
          "text": [
            "Found 82845 images belonging to 48 classes.\n",
            "Found 9115 images belonging to 48 classes.\n"
          ]
        }
      ],
      "source": [
        "from keras_preprocessing.image import ImageDataGenerator\n",
        "\n",
        "input_shape = [96, 96]\n",
        "batch_size = 256\n",
        "\n",
        "TRAINING_DIR = \"./train_split\"\n",
        "training_datagen = ImageDataGenerator(\n",
        "      rescale = 1./255,\n",
        "      rotation_range=10,\n",
        "      shear_range=0.1,\n",
        "      )\n",
        "\n",
        "train_generator = training_datagen.flow_from_directory(\n",
        "\tTRAINING_DIR,\n",
        "\ttarget_size=(input_shape[0],input_shape[1]),\n",
        "\tclass_mode='categorical',\n",
        "  batch_size=batch_size\n",
        ")\n",
        "VALIDATION_DIR = \"./validation_split\"\n",
        "validation_datagen = ImageDataGenerator(\n",
        "      rescale = 1./255,\n",
        "      )\n",
        "\n",
        "validation_generator = validation_datagen.flow_from_directory(\n",
        "\tVALIDATION_DIR,\n",
        "\ttarget_size=(input_shape[0],input_shape[1]),\n",
        "\tclass_mode='categorical',\n",
        "  batch_size=batch_size\n",
        ")"
      ]
    },
    {
      "cell_type": "code",
      "execution_count": null,
      "metadata": {
        "id": "C9WozHXq1-A-"
      },
      "outputs": [],
      "source": [
        "import numpy as np\n",
        "train_epoches = np.ceil(82814 / batch_size)\n",
        "val_epoches = np.ceil(9146 / batch_size)\n"
      ]
    },
    {
      "cell_type": "code",
      "execution_count": null,
      "metadata": {
        "id": "xjOyBGpJu_hO"
      },
      "outputs": [],
      "source": [
        "# import tensorflow as tf\n",
        "\n",
        "# model = tf.keras.models.Sequential([\n",
        "#     # Note the input shape is the desired size of the image 150x150 with 3 bytes color\n",
        "#     # This is the first convolution\n",
        "#     tf.keras.layers.Conv2D(32, (3,3), activation='relu', input_shape=(212, 309, 3)),\n",
        "#     tf.keras.layers.MaxPooling2D(2, 2),\n",
        "#     tf.keras.layers.Conv2D(32, (3,3), activation='relu'),\n",
        "#     tf.keras.layers.MaxPooling2D(2, 2),\n",
        "#     tf.keras.layers.Conv2D(64, (3,3), activation='relu'),\n",
        "#     tf.keras.layers.MaxPooling2D(2, 2),\n",
        "#     # The second convolution\n",
        "#     tf.keras.layers.Conv2D(64, (3,3), activation='relu'),\n",
        "#     tf.keras.layers.MaxPooling2D(2,2),\n",
        "#     # The third convolution\n",
        "#     tf.keras.layers.Conv2D(128, (3,3), activation='relu'),\n",
        "#     tf.keras.layers.MaxPooling2D(2,2),\n",
        "#     tf.keras.layers.Conv2D(256, (3,3), activation='relu'),\n",
        "#     tf.keras.layers.MaxPooling2D(2,2),\n",
        "#     # The fourth convolution\n",
        "#     # Flatten the results to feed into a DNN\n",
        "#     tf.keras.layers.Flatten(),\n",
        "#     # tf.keras.layers.Dropout(0.5),\n",
        "#     # 512 neuron hidden layer\n",
        "#     tf.keras.layers.Dense(128, activation='relu'),\n",
        "#     tf.keras.layers.Dense(128, activation='relu'),\n",
        "#     tf.keras.layers.Dense(48, activation='softmax')\n",
        "# ])\n",
        "# model.build()\n",
        "\n",
        "# # Print the model summary\n",
        "# model.summary()\n"
      ]
    },
    {
      "cell_type": "code",
      "execution_count": null,
      "metadata": {
        "id": "PqPSW4rrDDaG"
      },
      "outputs": [],
      "source": [
        "# import tensorflow as tf\n",
        "\n",
        "# model = tf.keras.models.Sequential([\n",
        "#     # Note the input shape is the desired size of the image 150x150 with 3 bytes color\n",
        "#     # This is the first convolution\n",
        "#     tf.keras.layers.Conv2D(64, (3,3), activation='relu', input_shape=(212, 309, 3)),\n",
        "#     tf.keras.layers.MaxPooling2D(2, 2),\n",
        "#     # The second convolution\n",
        "#     tf.keras.layers.Conv2D(64, (3,3), activation='relu'),\n",
        "#     tf.keras.layers.MaxPooling2D(2,2),\n",
        "#     tf.keras.layers.MaxPooling2D(2,2),\n",
        "#     tf.keras.layers.Conv2D(64, (3,3), activation='relu'),\n",
        "#     tf.keras.layers.MaxPooling2D(2,2),\n",
        "#     # The third convolution\n",
        "#     tf.keras.layers.Conv2D(128, (3,3), activation='relu'),\n",
        "#     tf.keras.layers.MaxPooling2D(2,2),\n",
        "#     # The fourth convolution\n",
        "#     tf.keras.layers.Conv2D(128, (3,3), activation='relu'),\n",
        "#     tf.keras.layers.MaxPooling2D(2,2),\n",
        "#     # Flatten the results to feed into a DNN\n",
        "#     tf.keras.layers.Flatten(),\n",
        "#     # tf.keras.layers.Dropout(0.5),\n",
        "#     # 512 neuron hidden layer\n",
        "#     tf.keras.layers.Dense(128, activation='relu'),\n",
        "#     tf.keras.layers.Dense(128, activation='relu'),\n",
        "#     tf.keras.layers.Dense(48, activation='softmax')\n",
        "# ])\n",
        "# model.summary()"
      ]
    },
    {
      "cell_type": "code",
      "execution_count": null,
      "metadata": {
        "colab": {
          "base_uri": "https://localhost:8080/"
        },
        "id": "okcEvt-85Si4",
        "outputId": "4ddefba0-a5a7-4218-c9d5-7ca1700e2ec5"
      },
      "outputs": [
        {
          "name": "stdout",
          "output_type": "stream",
          "text": [
            "Model: \"sequential_3\"\n",
            "_________________________________________________________________\n",
            " Layer (type)                Output Shape              Param #   \n",
            "=================================================================\n",
            " conv2d_18 (Conv2D)          (None, 94, 94, 32)        896       \n",
            "                                                                 \n",
            " conv2d_19 (Conv2D)          (None, 92, 92, 32)        9248      \n",
            "                                                                 \n",
            " batch_normalization_12 (Bat  (None, 92, 92, 32)       128       \n",
            " chNormalization)                                                \n",
            "                                                                 \n",
            " max_pooling2d_9 (MaxPooling  (None, 46, 46, 32)       0         \n",
            " 2D)                                                             \n",
            "                                                                 \n",
            " dropout_6 (Dropout)         (None, 46, 46, 32)        0         \n",
            "                                                                 \n",
            " conv2d_20 (Conv2D)          (None, 44, 44, 64)        18496     \n",
            "                                                                 \n",
            " batch_normalization_13 (Bat  (None, 44, 44, 64)       256       \n",
            " chNormalization)                                                \n",
            "                                                                 \n",
            " conv2d_21 (Conv2D)          (None, 42, 42, 128)       73856     \n",
            "                                                                 \n",
            " batch_normalization_14 (Bat  (None, 42, 42, 128)      512       \n",
            " chNormalization)                                                \n",
            "                                                                 \n",
            " max_pooling2d_10 (MaxPoolin  (None, 21, 21, 128)      0         \n",
            " g2D)                                                            \n",
            "                                                                 \n",
            " conv2d_22 (Conv2D)          (None, 19, 19, 128)       147584    \n",
            "                                                                 \n",
            " conv2d_23 (Conv2D)          (None, 17, 17, 256)       295168    \n",
            "                                                                 \n",
            " batch_normalization_15 (Bat  (None, 17, 17, 256)      1024      \n",
            " chNormalization)                                                \n",
            "                                                                 \n",
            " max_pooling2d_11 (MaxPoolin  (None, 8, 8, 256)        0         \n",
            " g2D)                                                            \n",
            "                                                                 \n",
            " flatten_3 (Flatten)         (None, 16384)             0         \n",
            "                                                                 \n",
            " dropout_7 (Dropout)         (None, 16384)             0         \n",
            "                                                                 \n",
            " dense_6 (Dense)             (None, 128)               2097280   \n",
            "                                                                 \n",
            " dense_7 (Dense)             (None, 48)                6192      \n",
            "                                                                 \n",
            "=================================================================\n",
            "Total params: 2,650,640\n",
            "Trainable params: 2,649,680\n",
            "Non-trainable params: 960\n",
            "_________________________________________________________________\n"
          ]
        }
      ],
      "source": [
        "import tensorflow as tf\n",
        "\n",
        "model = tf.keras.models.Sequential([\n",
        "    # Note the input shape is the desired size of the image 150x150 with 3 bytes color\n",
        "    # This is the first convolution\n",
        "    tf.keras.layers.Conv2D(32, (3,3), activation='relu', input_shape=(input_shape[0], input_shape[1], 3)),\n",
        "    tf.keras.layers.Conv2D(32, (3,3), activation='relu', input_shape=(input_shape[0], input_shape[1], 3)),\n",
        "    tf.keras.layers.BatchNormalization(),\n",
        "    tf.keras.layers.MaxPooling2D(2, 2),\n",
        "    tf.keras.layers.Dropout(0.2),\n",
        "    # The second convolution\n",
        "    tf.keras.layers.Conv2D(64, (3,3), activation='relu'),\n",
        "    tf.keras.layers.BatchNormalization(),\n",
        "    tf.keras.layers.Conv2D(128, (3,3), activation='relu'),\n",
        "    tf.keras.layers.BatchNormalization(),\n",
        "    tf.keras.layers.MaxPooling2D(2,2),\n",
        "\n",
        "    tf.keras.layers.Conv2D(128, (3,3), activation='relu'),\n",
        "    tf.keras.layers.Conv2D(256, (3,3), activation='relu'),\n",
        "    tf.keras.layers.BatchNormalization(),\n",
        "    tf.keras.layers.MaxPooling2D(2,2),\n",
        "    # The fourth convolution\n",
        "    # Flatten the results to feed into a DNN\n",
        "    tf.keras.layers.Flatten(),\n",
        "    # 512 neuron hidden layer\n",
        "    tf.keras.layers.Dropout(0.2),\n",
        "    tf.keras.layers.Dense(128, activation='relu'),\n",
        "    tf.keras.layers.Dense(48, activation='softmax')\n",
        "])\n",
        "\n",
        "# Print the model summary\n",
        "model.summary()\n"
      ]
    },
    {
      "cell_type": "code",
      "execution_count": null,
      "metadata": {
        "id": "_j-ThvLevGyB"
      },
      "outputs": [],
      "source": [
        "from tensorflow.keras.optimizers import Adam\n",
        "from tensorflow.keras.callbacks import EarlyStopping, ReduceLROnPlateau, ModelCheckpoint\n",
        "\n",
        "model.compile(loss = 'categorical_crossentropy', optimizer=Adam(learning_rate=0.0001,\n",
        "), metrics=['accuracy'])\n",
        "\n",
        "checkpoint = ModelCheckpoint(\"model.h5\", monitor='val_accuracy', verbose=1, \n",
        "                             save_best_only=True, mode='max')\n"
      ]
    },
    {
      "cell_type": "code",
      "execution_count": null,
      "metadata": {
        "colab": {
          "base_uri": "https://localhost:8080/"
        },
        "id": "2SJF--TxvLqm",
        "outputId": "38e2b1fd-d0ed-45f6-a9f2-daf1e9a66aec"
      },
      "outputs": [
        {
          "name": "stdout",
          "output_type": "stream",
          "text": [
            "Epoch 1/15\n",
            "324/324 [==============================] - ETA: 0s - loss: 3.8388 - accuracy: 0.0287\n",
            "Epoch 1: val_accuracy improved from -inf to 0.02644, saving model to model.h5\n",
            "324/324 [==============================] - 520s 2s/step - loss: 3.8388 - accuracy: 0.0287 - val_loss: 34.8819 - val_accuracy: 0.0264\n",
            "Epoch 2/15\n",
            "324/324 [==============================] - ETA: 0s - loss: 2.4323 - accuracy: 0.3785\n",
            "Epoch 2: val_accuracy improved from 0.02644 to 0.80230, saving model to model.h5\n",
            "324/324 [==============================] - 532s 2s/step - loss: 2.4323 - accuracy: 0.3785 - val_loss: 0.5574 - val_accuracy: 0.8023\n",
            "Epoch 3/15\n",
            "324/324 [==============================] - ETA: 0s - loss: 0.1129 - accuracy: 0.9761\n",
            "Epoch 3: val_accuracy did not improve from 0.80230\n",
            "324/324 [==============================] - 534s 2s/step - loss: 0.1129 - accuracy: 0.9761 - val_loss: 0.8963 - val_accuracy: 0.7244\n",
            "Epoch 4/15\n",
            "324/324 [==============================] - ETA: 0s - loss: 0.0712 - accuracy: 0.9841\n",
            "Epoch 4: val_accuracy improved from 0.80230 to 0.98705, saving model to model.h5\n",
            "324/324 [==============================] - 535s 2s/step - loss: 0.0712 - accuracy: 0.9841 - val_loss: 0.0595 - val_accuracy: 0.9871\n",
            "Epoch 5/15\n",
            "324/324 [==============================] - ETA: 0s - loss: 0.0574 - accuracy: 0.9867\n",
            "Epoch 5: val_accuracy improved from 0.98705 to 0.98837, saving model to model.h5\n",
            "324/324 [==============================] - 528s 2s/step - loss: 0.0574 - accuracy: 0.9867 - val_loss: 0.0457 - val_accuracy: 0.9884\n",
            "Epoch 6/15\n",
            "324/324 [==============================] - ETA: 0s - loss: 0.0478 - accuracy: 0.9887\n",
            "Epoch 6: val_accuracy did not improve from 0.98837\n",
            "324/324 [==============================] - 529s 2s/step - loss: 0.0478 - accuracy: 0.9887 - val_loss: 0.0763 - val_accuracy: 0.9827\n",
            "Epoch 7/15\n",
            "324/324 [==============================] - ETA: 0s - loss: 0.0392 - accuracy: 0.9903\n",
            "Epoch 7: val_accuracy did not improve from 0.98837\n",
            "324/324 [==============================] - 528s 2s/step - loss: 0.0392 - accuracy: 0.9903 - val_loss: 0.0826 - val_accuracy: 0.9832\n",
            "Epoch 8/15\n",
            "324/324 [==============================] - ETA: 0s - loss: 0.0309 - accuracy: 0.9922\n",
            "Epoch 8: val_accuracy improved from 0.98837 to 0.99046, saving model to model.h5\n",
            "324/324 [==============================] - 526s 2s/step - loss: 0.0309 - accuracy: 0.9922 - val_loss: 0.0379 - val_accuracy: 0.9905\n",
            "Epoch 9/15\n",
            "324/324 [==============================] - ETA: 0s - loss: 0.0265 - accuracy: 0.9930\n",
            "Epoch 9: val_accuracy did not improve from 0.99046\n",
            "324/324 [==============================] - 530s 2s/step - loss: 0.0265 - accuracy: 0.9930 - val_loss: 0.0743 - val_accuracy: 0.9750\n",
            "Epoch 10/15\n",
            "324/324 [==============================] - ETA: 0s - loss: 0.0234 - accuracy: 0.9937\n",
            "Epoch 10: val_accuracy did not improve from 0.99046\n",
            "324/324 [==============================] - 530s 2s/step - loss: 0.0234 - accuracy: 0.9937 - val_loss: 1.8953 - val_accuracy: 0.4405\n",
            "Epoch 11/15\n",
            "324/324 [==============================] - ETA: 0s - loss: 0.0200 - accuracy: 0.9951\n",
            "Epoch 11: val_accuracy did not improve from 0.99046\n",
            "324/324 [==============================] - 528s 2s/step - loss: 0.0200 - accuracy: 0.9951 - val_loss: 18.1588 - val_accuracy: 0.0302\n",
            "Epoch 12/15\n",
            "324/324 [==============================] - ETA: 0s - loss: 0.0176 - accuracy: 0.9957\n",
            "Epoch 12: val_accuracy improved from 0.99046 to 0.99616, saving model to model.h5\n",
            "324/324 [==============================] - 527s 2s/step - loss: 0.0176 - accuracy: 0.9957 - val_loss: 0.0195 - val_accuracy: 0.9962\n",
            "Epoch 13/15\n",
            "324/324 [==============================] - ETA: 0s - loss: 0.0153 - accuracy: 0.9960\n",
            "Epoch 13: val_accuracy did not improve from 0.99616\n",
            "324/324 [==============================] - 529s 2s/step - loss: 0.0153 - accuracy: 0.9960 - val_loss: 0.0211 - val_accuracy: 0.9951\n",
            "Epoch 14/15\n",
            "324/324 [==============================] - ETA: 0s - loss: 0.0124 - accuracy: 0.9969\n",
            "Epoch 14: val_accuracy did not improve from 0.99616\n",
            "324/324 [==============================] - 524s 2s/step - loss: 0.0124 - accuracy: 0.9969 - val_loss: 0.2930 - val_accuracy: 0.9003\n",
            "Epoch 15/15\n",
            "324/324 [==============================] - ETA: 0s - loss: 0.0126 - accuracy: 0.9967\n",
            "Epoch 15: val_accuracy improved from 0.99616 to 0.99649, saving model to model.h5\n",
            "324/324 [==============================] - 527s 2s/step - loss: 0.0126 - accuracy: 0.9967 - val_loss: 0.0164 - val_accuracy: 0.9965\n"
          ]
        }
      ],
      "source": [
        "history = model.fit(train_generator, epochs=15, steps_per_epoch=train_epoches, verbose = 1, \n",
        "                    validation_data = validation_generator, validation_steps=val_epoches,\n",
        "                    callbacks=[checkpoint]\n",
        "                    )"
      ]
    },
    {
      "cell_type": "code",
      "execution_count": null,
      "metadata": {
        "id": "h_SV3MVStDE3"
      },
      "outputs": [],
      "source": [
        "# !mkdir train_separated\n",
        "# !mkdir validation\n",
        "\n",
        "# import random\n",
        "\n",
        "# !for i in {0..47}; do mkdir \"train_separated/$i\"; done\n",
        "# !for i in {0..47}; do mkdir \"validation/$i\"; done\n",
        "# for i in range(91960):\n",
        "\n",
        "#   num = random.random()\n",
        "#   current_dir = \"./train_separated\" if num < 0.8 else \"./validation\"\n",
        "#   file_name = train.iloc[i,0]\n",
        "#   label = train.iloc[i, 1]\n",
        "\n",
        "#   dst = os.path.join(current_dir, str(label))\n",
        "#   src = os.path.join(base_dir, file_name)\n",
        "#   shutil.copy(src, dst)\n",
        "    \n",
        "#   if i % 5000 == 0:\n",
        "#     print(i)"
      ]
    },
    {
      "cell_type": "code",
      "execution_count": null,
      "metadata": {
        "id": "yZry-IEvBwm_"
      },
      "outputs": [],
      "source": [
        "!pip install pyyaml h5py  # Required to save models in HDF5 format\n",
        "\n",
        "print(tf.version.VERSION)\n"
      ]
    },
    {
      "cell_type": "code",
      "execution_count": null,
      "metadata": {
        "id": "wdxBCIw8S8Wn"
      },
      "outputs": [],
      "source": [
        "!mkdir ./IMAGE\\ DATASET/test/0\n",
        "!cp ./IMAGE\\ DATASET/test/*.jpeg ./IMAGE\\ DATASET/test/0"
      ]
    },
    {
      "cell_type": "code",
      "execution_count": null,
      "metadata": {
        "colab": {
          "base_uri": "https://localhost:8080/"
        },
        "id": "Rku2PE2bPsL3",
        "outputId": "9bf9fd6e-139c-4936-a4d6-d0bfb0eac6f4"
      },
      "outputs": [
        {
          "name": "stdout",
          "output_type": "stream",
          "text": [
            "Found 4840 images belonging to 1 classes.\n"
          ]
        }
      ],
      "source": [
        "from keras.preprocessing import image\n",
        "import numpy as np\n",
        "\n",
        "\n",
        "test_datagen = ImageDataGenerator(\n",
        "      rescale = 1./255,\n",
        "      )\n",
        "test_data = \"./IMAGE DATASET/test\"\n",
        "\n",
        "test_generator = test_datagen.flow_from_directory(\n",
        "\ttest_data,\n",
        "\ttarget_size=(input_shape[0],input_shape[1]),\n",
        "  batch_size=1,\n",
        "\tclass_mode='categorical',\n",
        "  shuffle=False\n",
        ")\n",
        "\n"
      ]
    },
    {
      "cell_type": "code",
      "execution_count": null,
      "metadata": {
        "colab": {
          "base_uri": "https://localhost:8080/"
        },
        "id": "9ifEhn4zQrZN",
        "outputId": "d42981db-9ffb-4a6a-e346-93d2f1bfe522"
      },
      "outputs": [
        {
          "name": "stdout",
          "output_type": "stream",
          "text": [
            "4840/4840 [==============================] - 34s 7ms/step\n"
          ]
        },
        {
          "data": {
            "text/plain": [
              "array([[5.57053974e-03, 9.94429350e-01, 1.06522587e-19, ...,\n",
              "        1.64894370e-13, 4.26555357e-14, 1.77321922e-18],\n",
              "       [5.43365240e-05, 4.55202144e-20, 2.40375485e-22, ...,\n",
              "        5.99523903e-13, 1.71510704e-14, 2.00006952e-16],\n",
              "       [1.20160446e-04, 2.00225791e-16, 9.47641105e-18, ...,\n",
              "        9.99764621e-01, 3.95895768e-05, 3.78478851e-13],\n",
              "       ...,\n",
              "       [5.34295663e-02, 1.77294640e-25, 5.96401292e-13, ...,\n",
              "        7.56190357e-20, 4.55967047e-16, 3.67021257e-12],\n",
              "       [2.50531656e-07, 2.29014256e-28, 8.69629908e-25, ...,\n",
              "        3.11408553e-17, 2.35799523e-28, 1.66009350e-30],\n",
              "       [3.14785848e-06, 2.90077061e-30, 1.17944055e-29, ...,\n",
              "        4.21899115e-13, 3.74597858e-23, 3.75587270e-27]], dtype=float32)"
            ]
          },
          "execution_count": 42,
          "metadata": {},
          "output_type": "execute_result"
        }
      ],
      "source": [
        "pred=model.predict(test_generator,verbose=1)\n",
        "predicted_class_indices=np.argmax(pred,axis=1)\n",
        "predicted_class_indices"
      ]
    },
    {
      "cell_type": "code",
      "execution_count": null,
      "metadata": {
        "id": "Awb3J8MRukD5"
      },
      "outputs": [],
      "source": [
        "sequence_map = {\n",
        "    0: 0,\n",
        "    1: 1,\n",
        "    2: 10,\n",
        "    3: 11,\n",
        "    4: 12,\n",
        "    5: 13,\n",
        "    6: 14,\n",
        "    7: 15,\n",
        "    8: 16,\n",
        "    9: 17,\n",
        "    10: 18,\n",
        "    11: 19,\n",
        "    12: 2,\n",
        "    13: 20,\n",
        "    14: 21,\n",
        "    15: 22,\n",
        "    16: 23,\n",
        "    17: 24,\n",
        "    18: 25,\n",
        "    19: 26,\n",
        "    20: 27,\n",
        "    21: 28,\n",
        "    22: 29,\n",
        "    23: 3,\n",
        "    24: 30,\n",
        "    25: 31,\n",
        "    26: 32,\n",
        "    27: 33,\n",
        "    28: 34,\n",
        "    29: 35,\n",
        "    30: 36,\n",
        "    31: 37,\n",
        "    32: 38,\n",
        "    33: 39,\n",
        "    34: 4,\n",
        "    35: 40,\n",
        "    36: 41,\n",
        "    37: 42,\n",
        "    38: 43,\n",
        "    39: 44,\n",
        "    40: 45,\n",
        "    41: 46,\n",
        "    42: 47,\n",
        "    43: 5,\n",
        "    44: 6,\n",
        "    45: 7,\n",
        "    46: 8,\n",
        "    47: 9\n",
        "}"
      ]
    },
    {
      "cell_type": "code",
      "execution_count": null,
      "metadata": {
        "id": "QQ03AMsRsoDQ"
      },
      "outputs": [],
      "source": [
        "# model2 = tf.keras.models.load_model(\"model_first.h5\")\n",
        "# pred=model2.predict_generator(test_generator,verbose=1)\n",
        "# predicted_class_indices=np.argmax(pred,axis=1)\n",
        "# predicted_class_indices"
      ]
    },
    {
      "cell_type": "code",
      "execution_count": null,
      "metadata": {
        "id": "6s0oat6eVt7h"
      },
      "outputs": [],
      "source": [
        "data = []\n",
        "i = 0\n",
        "for file_name_path in test_generator.filenames:\n",
        "  file_name = file_name_path[2:]\n",
        "  data.append([file_name, sequence_map[predicted_class_indices[i]]])\n",
        "  i = i + 1\n",
        "  "
      ]
    },
    {
      "cell_type": "code",
      "execution_count": null,
      "metadata": {
        "colab": {
          "base_uri": "https://localhost:8080/",
          "height": 206
        },
        "id": "L3GVYionWPtk",
        "outputId": "d5943592-a25a-4876-dd36-a78c8488b9fc"
      },
      "outputs": [
        {
          "data": {
            "text/html": [
              "\n",
              "  <div id=\"df-43e04aaa-a892-44b7-98af-a61945a560fd\">\n",
              "    <div class=\"colab-df-container\">\n",
              "      <div>\n",
              "<style scoped>\n",
              "    .dataframe tbody tr th:only-of-type {\n",
              "        vertical-align: middle;\n",
              "    }\n",
              "\n",
              "    .dataframe tbody tr th {\n",
              "        vertical-align: top;\n",
              "    }\n",
              "\n",
              "    .dataframe thead th {\n",
              "        text-align: right;\n",
              "    }\n",
              "</style>\n",
              "<table border=\"1\" class=\"dataframe\">\n",
              "  <thead>\n",
              "    <tr style=\"text-align: right;\">\n",
              "      <th></th>\n",
              "      <th>data</th>\n",
              "      <th>label</th>\n",
              "    </tr>\n",
              "  </thead>\n",
              "  <tbody>\n",
              "    <tr>\n",
              "      <th>0</th>\n",
              "      <td>0_1509_422.jpeg</td>\n",
              "      <td>1</td>\n",
              "    </tr>\n",
              "    <tr>\n",
              "      <th>1</th>\n",
              "      <td>0_2103_738.jpeg</td>\n",
              "      <td>19</td>\n",
              "    </tr>\n",
              "    <tr>\n",
              "      <th>2</th>\n",
              "      <td>0_2197_758.jpeg</td>\n",
              "      <td>7</td>\n",
              "    </tr>\n",
              "    <tr>\n",
              "      <th>3</th>\n",
              "      <td>0_2316_1877.jpeg</td>\n",
              "      <td>19</td>\n",
              "    </tr>\n",
              "    <tr>\n",
              "      <th>4</th>\n",
              "      <td>0_2709_1014.jpeg</td>\n",
              "      <td>37</td>\n",
              "    </tr>\n",
              "  </tbody>\n",
              "</table>\n",
              "</div>\n",
              "      <button class=\"colab-df-convert\" onclick=\"convertToInteractive('df-43e04aaa-a892-44b7-98af-a61945a560fd')\"\n",
              "              title=\"Convert this dataframe to an interactive table.\"\n",
              "              style=\"display:none;\">\n",
              "        \n",
              "  <svg xmlns=\"http://www.w3.org/2000/svg\" height=\"24px\"viewBox=\"0 0 24 24\"\n",
              "       width=\"24px\">\n",
              "    <path d=\"M0 0h24v24H0V0z\" fill=\"none\"/>\n",
              "    <path d=\"M18.56 5.44l.94 2.06.94-2.06 2.06-.94-2.06-.94-.94-2.06-.94 2.06-2.06.94zm-11 1L8.5 8.5l.94-2.06 2.06-.94-2.06-.94L8.5 2.5l-.94 2.06-2.06.94zm10 10l.94 2.06.94-2.06 2.06-.94-2.06-.94-.94-2.06-.94 2.06-2.06.94z\"/><path d=\"M17.41 7.96l-1.37-1.37c-.4-.4-.92-.59-1.43-.59-.52 0-1.04.2-1.43.59L10.3 9.45l-7.72 7.72c-.78.78-.78 2.05 0 2.83L4 21.41c.39.39.9.59 1.41.59.51 0 1.02-.2 1.41-.59l7.78-7.78 2.81-2.81c.8-.78.8-2.07 0-2.86zM5.41 20L4 18.59l7.72-7.72 1.47 1.35L5.41 20z\"/>\n",
              "  </svg>\n",
              "      </button>\n",
              "      \n",
              "  <style>\n",
              "    .colab-df-container {\n",
              "      display:flex;\n",
              "      flex-wrap:wrap;\n",
              "      gap: 12px;\n",
              "    }\n",
              "\n",
              "    .colab-df-convert {\n",
              "      background-color: #E8F0FE;\n",
              "      border: none;\n",
              "      border-radius: 50%;\n",
              "      cursor: pointer;\n",
              "      display: none;\n",
              "      fill: #1967D2;\n",
              "      height: 32px;\n",
              "      padding: 0 0 0 0;\n",
              "      width: 32px;\n",
              "    }\n",
              "\n",
              "    .colab-df-convert:hover {\n",
              "      background-color: #E2EBFA;\n",
              "      box-shadow: 0px 1px 2px rgba(60, 64, 67, 0.3), 0px 1px 3px 1px rgba(60, 64, 67, 0.15);\n",
              "      fill: #174EA6;\n",
              "    }\n",
              "\n",
              "    [theme=dark] .colab-df-convert {\n",
              "      background-color: #3B4455;\n",
              "      fill: #D2E3FC;\n",
              "    }\n",
              "\n",
              "    [theme=dark] .colab-df-convert:hover {\n",
              "      background-color: #434B5C;\n",
              "      box-shadow: 0px 1px 3px 1px rgba(0, 0, 0, 0.15);\n",
              "      filter: drop-shadow(0px 1px 2px rgba(0, 0, 0, 0.3));\n",
              "      fill: #FFFFFF;\n",
              "    }\n",
              "  </style>\n",
              "\n",
              "      <script>\n",
              "        const buttonEl =\n",
              "          document.querySelector('#df-43e04aaa-a892-44b7-98af-a61945a560fd button.colab-df-convert');\n",
              "        buttonEl.style.display =\n",
              "          google.colab.kernel.accessAllowed ? 'block' : 'none';\n",
              "\n",
              "        async function convertToInteractive(key) {\n",
              "          const element = document.querySelector('#df-43e04aaa-a892-44b7-98af-a61945a560fd');\n",
              "          const dataTable =\n",
              "            await google.colab.kernel.invokeFunction('convertToInteractive',\n",
              "                                                     [key], {});\n",
              "          if (!dataTable) return;\n",
              "\n",
              "          const docLinkHtml = 'Like what you see? Visit the ' +\n",
              "            '<a target=\"_blank\" href=https://colab.research.google.com/notebooks/data_table.ipynb>data table notebook</a>'\n",
              "            + ' to learn more about interactive tables.';\n",
              "          element.innerHTML = '';\n",
              "          dataTable['output_type'] = 'display_data';\n",
              "          await google.colab.output.renderOutput(dataTable, element);\n",
              "          const docLink = document.createElement('div');\n",
              "          docLink.innerHTML = docLinkHtml;\n",
              "          element.appendChild(docLink);\n",
              "        }\n",
              "      </script>\n",
              "    </div>\n",
              "  </div>\n",
              "  "
            ],
            "text/plain": [
              "               data  label\n",
              "0   0_1509_422.jpeg      1\n",
              "1   0_2103_738.jpeg     19\n",
              "2   0_2197_758.jpeg      7\n",
              "3  0_2316_1877.jpeg     19\n",
              "4  0_2709_1014.jpeg     37"
            ]
          },
          "execution_count": 44,
          "metadata": {},
          "output_type": "execute_result"
        }
      ],
      "source": [
        "results = pd.DataFrame(data, columns=[\"data\", \"label\"])\n",
        "results.head()"
      ]
    },
    {
      "cell_type": "code",
      "execution_count": null,
      "metadata": {
        "id": "4i68OZwMZRKw"
      },
      "outputs": [],
      "source": [
        "results.to_csv(\"results.csv\", index = False)"
      ]
    },
    {
      "cell_type": "code",
      "execution_count": null,
      "metadata": {
        "colab": {
          "base_uri": "https://localhost:8080/"
        },
        "id": "a4xlUj7QgIM9",
        "outputId": "4feb637b-9aaa-4d78-f5a6-02c1d7a5948b"
      },
      "outputs": [
        {
          "name": "stdout",
          "output_type": "stream",
          "text": [
            "100% 94.2k/94.2k [00:02<00:00, 45.1kB/s]\n",
            "Successfully submitted to IMAGE [IT Meet '22]"
          ]
        }
      ],
      "source": [
        "!kaggle competitions submit -c automatic-vote-counting-image -f results.csv -m \"Fixed mapping\""
      ]
    },
    {
      "cell_type": "code",
      "execution_count": null,
      "metadata": {
        "colab": {
          "base_uri": "https://localhost:8080/",
          "height": 298
        },
        "id": "-ZJghf0vgauG",
        "outputId": "cad854ce-f325-4366-a231-b44eca56491d"
      },
      "outputs": [
        {
          "data": {
            "image/png": "[encoded data removed]",
            "text/plain": [
              "<Figure size 432x288 with 1 Axes>"
            ]
          },
          "metadata": {
            "needs_background": "light"
          },
          "output_type": "display_data"
        },
        {
          "data": {
            "text/plain": [
              "<Figure size 432x288 with 0 Axes>"
            ]
          },
          "metadata": {},
          "output_type": "display_data"
        }
      ],
      "source": [
        "import matplotlib.pyplot as plt\n",
        "\n",
        "# Plot the results\n",
        "acc = history.history['accuracy']\n",
        "val_acc = history.history['val_accuracy']\n",
        "loss = history.history['loss']\n",
        "val_loss = history.history['val_loss']\n",
        "\n",
        "epochs = range(len(acc))\n",
        "\n",
        "plt.plot(epochs, acc, 'r', label='Training accuracy')\n",
        "plt.plot(epochs, val_acc, 'b', label='Validation accuracy')\n",
        "plt.title('Training and validation accuracy')\n",
        "plt.legend(loc=0)\n",
        "plt.figure()\n",
        "\n",
        "plt.show()"
      ]
    },
    {
      "cell_type": "code",
      "execution_count": null,
      "metadata": {
        "id": "zH7JjO4xzrOa"
      },
      "outputs": [],
      "source": []
    }
  ],
  "metadata": {
    "accelerator": "GPU",
    "colab": {
      "collapsed_sections": [],
      "provenance": []
    },
    "gpuClass": "standard",
    "kernelspec": {
      "display_name": "Python 3",
      "name": "python3"
    },
    "language_info": {
      "name": "python"
    }
  },
  "nbformat": 4,
  "nbformat_minor": 0
}
